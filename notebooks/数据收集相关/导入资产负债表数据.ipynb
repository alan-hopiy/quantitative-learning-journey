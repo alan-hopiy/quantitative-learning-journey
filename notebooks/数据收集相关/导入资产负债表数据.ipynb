{
 "cells": [
  {
   "cell_type": "code",
   "execution_count": 1,
   "id": "08def5e7-c4a8-4e35-a797-b7bd3f5ec20b",
   "metadata": {},
   "outputs": [
    {
     "name": "stdout",
     "output_type": "stream",
     "text": [
      "Tushare API 和数据库连接初始化成功。\n",
      "共 5413 只股票，还需处理 5413 只。\n",
      "开始获取资产负债表数据，将存入表 'stock_balance_sheets'...\n",
      "每次请求的字段: ['ts_code', 'ann_date', 'end_date', 'report_type', 'comp_type', 'total_assets', 'total_liab', 'total_hldr_eqy_inc_min_int', 'cap_rese', 'undistr_porfit', 'accounts_receiv', 'inventory']\n"
     ]
    },
    {
     "name": "stderr",
     "output_type": "stream",
     "text": [
      "正在获取资产负债表:   9%|█▋                | 499/5413 [06:18<1:02:46,  1.30it/s]/var/folders/jk/_51b3nb118q00wt960d15lz00000gn/T/ipykernel_45637/1016402261.py:41: FutureWarning: The behavior of DataFrame concatenation with empty or all-NA entries is deprecated. In a future version, this will no longer exclude empty or all-NA columns when determining the result dtypes. To retain the old behavior, exclude the relevant entries before the concat operation.\n",
      "  batch_df = pd.concat(data_list, ignore_index=True)\n",
      "正在获取资产负债表:  66%|███████████▏     | 3557/5413 [54:32<5:00:05,  9.70s/it]"
     ]
    },
    {
     "name": "stdout",
     "output_type": "stream",
     "text": [
      "\n",
      "获取 600869.SH 数据时出错: HTTPConnectionPool(host='127.0.0.1', port=7890): Read timed out. (read timeout=30)。跳过该股票。\n"
     ]
    },
    {
     "name": "stderr",
     "output_type": "stream",
     "text": [
      "正在获取资产负债表: 100%|█████████████████| 5413/5413 [1:25:03<00:00,  1.06it/s]"
     ]
    },
    {
     "name": "stdout",
     "output_type": "stream",
     "text": [
      "\n",
      "正在保存最后一个批次的数据...\n",
      "\n",
      "所有剩余股票的资产负债表数据处理完毕！数据已存入 'stock_balance_sheets' 表。\n"
     ]
    },
    {
     "name": "stderr",
     "output_type": "stream",
     "text": [
      "\n"
     ]
    }
   ],
   "source": [
    "# file: get_balance_sheets.py\n",
    "\n",
    "import time\n",
    "import pandas as pd\n",
    "import tushare as ts\n",
    "from sqlalchemy import create_engine\n",
    "from tqdm import tqdm\n",
    "\n",
    "# 导入您的配置文件\n",
    "try:\n",
    "    import config\n",
    "except ImportError:\n",
    "    print(\"错误：无法找到配置文件 config.py。\")\n",
    "    exit()\n",
    "\n",
    "# --- 资产负债表数据获取配置 ---\n",
    "BATCH_SIZE = 100  # 每处理100家公司的数据就保存一次\n",
    "BALANCE_SHEET_TABLE_NAME = 'stock_balance_sheets' # 储存资产负债表的新表名\n",
    "\n",
    "START_DATE = '20190101'\n",
    "END_DATE = '20241231'\n",
    "# --- 明确指定需要从资产负债表中获取的字段 ---\n",
    "# 我们把最重要的 total_assets (总资产) 放在前面\n",
    "BALANCE_SHEET_FIELDS = [\n",
    "    'ts_code', 'ann_date', 'end_date', 'report_type', 'comp_type',\n",
    "    'total_assets',       # 总资产\n",
    "    'total_liab',         # 总负债\n",
    "    'total_hldr_eqy_inc_min_int', # 股东权益合计(含少数股东权益)\n",
    "    'cap_rese',           # 资本公积金\n",
    "    'undistr_porfit',     # 未分配利润\n",
    "    'accounts_receiv',    # 应收账款\n",
    "    'inventory',          # 存货\n",
    "    # 您可以根据Tushare文档，按需添加更多资产负债表字段\n",
    "]\n",
    "\n",
    "def save_batch_to_db(data_list, db_engine, table_name):\n",
    "    \"\"\"将一个批次的数据保存到数据库的指定表中\"\"\"\n",
    "    if not data_list:\n",
    "        return\n",
    "    try:\n",
    "        batch_df = pd.concat(data_list, ignore_index=True)\n",
    "        batch_df.to_sql(table_name, db_engine, if_exists='append', index=False)\n",
    "    except Exception as e:\n",
    "        print(f\"\\n保存批次数据到表 '{table_name}' 时出错: {e}\")\n",
    "\n",
    "def fetch_all_balance_sheet_data():\n",
    "    \"\"\"\n",
    "    (可断点续传版)\n",
    "    获取所有A股公司的资产负债表数据并存入新表。\n",
    "    \"\"\"\n",
    "    # 1. 初始化和连接\n",
    "    try:\n",
    "        pro = ts.pro_api(config.TUSHARE_TOKEN)\n",
    "        db_uri = (\n",
    "            f\"postgresql+psycopg2://{config.DB_USER}:{config.DB_PASS}@\"\n",
    "            f\"{config.DB_HOST}:{config.DB_PORT}/{config.DB_NAME}\"\n",
    "        )\n",
    "        engine = create_engine(db_uri)\n",
    "        print(\"Tushare API 和数据库连接初始化成功。\")\n",
    "    except Exception as e:\n",
    "        print(f\"初始化连接时发生错误: {e}\")\n",
    "        return\n",
    "\n",
    "    # 2. 断点续传逻辑: 检查新表中已处理过的股票\n",
    "    processed_codes = set()\n",
    "    try:\n",
    "        with engine.connect() as connection:\n",
    "            if engine.dialect.has_table(connection, BALANCE_SHEET_TABLE_NAME):\n",
    "                processed_df = pd.read_sql(f\"SELECT DISTINCT ts_code FROM {BALANCE_SHEET_TABLE_NAME}\", engine)\n",
    "                processed_codes = set(processed_df['ts_code'])\n",
    "                print(f\"检测到目标表 '{BALANCE_SHEET_TABLE_NAME}'，已处理过 {len(processed_codes)} 只股票。\")\n",
    "    except Exception as e:\n",
    "        print(f\"检查已处理股票时出错（如果表是首次创建，此信息可忽略）: {e}\")\n",
    "\n",
    "    # 3. 获取全部待处理的股票列表\n",
    "    try:\n",
    "        all_stocks_df = pd.read_sql(\"SELECT ts_code FROM stock_basic_info\", engine)\n",
    "        full_stock_list = all_stocks_df['ts_code'].tolist()\n",
    "        codes_to_process = [code for code in full_stock_list if code not in processed_codes]\n",
    "        if not codes_to_process:\n",
    "            print(\"所有股票的资产负债表数据均已获取，无需执行任务。\")\n",
    "            return\n",
    "        print(f\"共 {len(full_stock_list)} 只股票，还需处理 {len(codes_to_process)} 只。\")\n",
    "    except Exception as e:\n",
    "        print(f\"从数据库读取股票列表时出错: {e}\")\n",
    "        return\n",
    "\n",
    "    # 4. 批处理循环获取数据\n",
    "    batch_data = []\n",
    "    print(f\"开始获取资产负债表数据，将存入表 '{BALANCE_SHEET_TABLE_NAME}'...\")\n",
    "    print(f\"每次请求的字段: {BALANCE_SHEET_FIELDS}\")\n",
    "\n",
    "    for ts_code in tqdm(codes_to_process, desc=\"正在获取资产负债表\"):\n",
    "        try:\n",
    "            # 使用 pro.balancesheet 接口\n",
    "            df = pro.balancesheet(\n",
    "                ts_code=ts_code,\n",
    "                fields=','.join(BALANCE_SHEET_FIELDS)\n",
    "            )\n",
    "            if not df.empty:\n",
    "                batch_data.append(df)\n",
    "            \n",
    "            if len(batch_data) >= BATCH_SIZE:\n",
    "                save_batch_to_db(batch_data, engine, BALANCE_SHEET_TABLE_NAME)\n",
    "                batch_data = []\n",
    "\n",
    "            time.sleep(0.6) # Tushare资产负债表接口每分钟200次，0.6s间隔较安全\n",
    "\n",
    "        except Exception as e:\n",
    "            print(f\"\\n获取 {ts_code} 数据时出错: {e}。跳过该股票。\")\n",
    "            continue\n",
    "\n",
    "    # 5. 处理并保存最后一个批次\n",
    "    if batch_data:\n",
    "        print(\"\\n正在保存最后一个批次的数据...\")\n",
    "        save_batch_to_db(batch_data, engine, BALANCE_SHEET_TABLE_NAME)\n",
    "\n",
    "    print(f\"\\n所有剩余股票的资产负债表数据处理完毕！数据已存入 '{BALANCE_SHEET_TABLE_NAME}' 表。\")\n",
    "\n",
    "if __name__ == '__main__':\n",
    "    fetch_all_balance_sheet_data()"
   ]
  },
  {
   "cell_type": "code",
   "execution_count": null,
   "id": "f917afc3-1595-42ac-b357-3daed5ec1799",
   "metadata": {},
   "outputs": [],
   "source": []
  }
 ],
 "metadata": {
  "kernelspec": {
   "display_name": "Python 3 (ipykernel)",
   "language": "python",
   "name": "python3"
  },
  "language_info": {
   "codemirror_mode": {
    "name": "ipython",
    "version": 3
   },
   "file_extension": ".py",
   "mimetype": "text/x-python",
   "name": "python",
   "nbconvert_exporter": "python",
   "pygments_lexer": "ipython3",
   "version": "3.11.0"
  }
 },
 "nbformat": 4,
 "nbformat_minor": 5
}
