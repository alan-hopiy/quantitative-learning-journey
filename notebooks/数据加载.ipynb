{
 "cells": [
  {
   "cell_type": "code",
   "execution_count": 1,
   "id": "4edd29a0-a24a-4ba8-a693-1939126beaa9",
   "metadata": {},
   "outputs": [
    {
     "name": "stdout",
     "output_type": "stream",
     "text": [
      "项目根目录 '/Users/alan-hopiy/Documents/quantitative-learning-journey' 已成功添加到Python搜索路径。\n",
      "--- 主任务开始：处理表 'stock_financial_indicators' 中的 'grossprofit_margin' ---\n",
      "--- 准备从表[stock_financial_indicators]导出用于检查的 'grossprofit_margin' 原始数据 ---\n",
      "数据加载成功！\n",
      "数据已准备和排序完毕。\n",
      "\n",
      "[成功] 原始数据已成功导出到: /Users/alan-hopiy/Documents/quantitative-learning-journey/outputs/初步数据/初步数据/stock_financial_indicators_grossprofit_margin_inspection.xlsx\n",
      "\n",
      "======================================================================\n",
      "\n",
      "--- 开始将表 'stock_financial_indicators' 的 'grossprofit_margin' 数据转换为宽表 ---\n",
      "--- 准备将表[stock_financial_indicators]的 'grossprofit_margin' 数据转换为宽表 ---\n",
      "长表数据加载成功！\n",
      "\n",
      "数据清洗前总行数: 249561\n",
      "因包含空值被删除的行数: 5604\n",
      "因重复被删除的行数: 102689\n",
      "数据清洗后剩余行数: 141268\n",
      "\n",
      "正在执行 pivot_table 操作...\n",
      "宽表创建成功！\n",
      "\n",
      "[成功] 宽表数据已成功导出到: /Users/alan-hopiy/Documents/quantitative-learning-journey/outputs/初步数据/初步数据/stock_financial_indicators_grossprofit_margin_wide_panel.xlsx\n",
      "\n",
      "--- 所有任务已圆满完成！ ---\n"
     ]
    }
   ],
   "source": [
    "# 您的主脚本（最终版）\n",
    "import sys\n",
    "import os\n",
    "\n",
    "# --- 路径修复代码 (保持不变) ---\n",
    "project_root = os.path.abspath('..')\n",
    "if project_root not in sys.path:\n",
    "    sys.path.append(project_root)\n",
    "    print(f\"项目根目录 '{project_root}' 已成功添加到Python搜索路径。\")\n",
    "\n",
    "# --- 引入新版函数 (确保两个函数都被引入) ---\n",
    "from source.data_utils import export_data_for_inspection, export_wide_panel\n",
    "\n",
    "# --- 在这里设置您想加载的任何表和列 ---\n",
    "TABLE_TO_LOAD = 'stock_financial_indicators'\n",
    "COLUMN_TO_INSPECT = 'grossprofit_margin' \n",
    "\n",
    "\n",
    "if __name__ == \"__main__\":\n",
    "    \n",
    "    # === 任务1：导出原始数据用于检查 ===\n",
    "    print(f\"--- 主任务开始：处理表 '{TABLE_TO_LOAD}' 中的 '{COLUMN_TO_INSPECT}' ---\")\n",
    "    export_data_for_inspection(\n",
    "        table_name=TABLE_TO_LOAD,\n",
    "        column_to_inspect=COLUMN_TO_INSPECT\n",
    "    )\n",
    "    \n",
    "    print(\"\\n\" + \"=\"*70 + \"\\n\") # 添加一个清晰的分割线\n",
    "    \n",
    "    # === 任务2：将数据转换为宽表格式 ===\n",
    "    print(f\"--- 开始将表 '{TABLE_TO_LOAD}' 的 '{COLUMN_TO_INSPECT}' 数据转换为宽表 ---\")\n",
    "    export_wide_panel(\n",
    "        table_name=TABLE_TO_LOAD,\n",
    "        value_column=COLUMN_TO_INSPECT \n",
    "    )\n",
    "\n",
    "    print(\"\\n--- 所有任务已圆满完成！ ---\")"
   ]
  },
  {
   "cell_type": "code",
   "execution_count": null,
   "id": "412ae540-d0bf-416f-818b-979517c48ad9",
   "metadata": {},
   "outputs": [],
   "source": []
  }
 ],
 "metadata": {
  "kernelspec": {
   "display_name": "Python 3 (ipykernel)",
   "language": "python",
   "name": "python3"
  },
  "language_info": {
   "codemirror_mode": {
    "name": "ipython",
    "version": 3
   },
   "file_extension": ".py",
   "mimetype": "text/x-python",
   "name": "python",
   "nbconvert_exporter": "python",
   "pygments_lexer": "ipython3",
   "version": "3.11.0"
  }
 },
 "nbformat": 4,
 "nbformat_minor": 5
}
